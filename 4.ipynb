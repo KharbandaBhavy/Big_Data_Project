{
 "cells": [
  {
   "cell_type": "markdown",
   "metadata": {},
   "source": [
    "Testing Beta Versions"
   ]
  },
  {
   "cell_type": "code",
   "execution_count": 58,
   "metadata": {},
   "outputs": [],
   "source": [
    "# Applying Logistic regression directly to hindi dataset using vector tokenizer"
   ]
  },
  {
   "cell_type": "code",
   "execution_count": 31,
   "metadata": {},
   "outputs": [],
   "source": [
    "import pandas as pd\n",
    "\n",
    "import nltk\n",
    "from nltk.corpus import stopwords\n",
    "from nltk.stem.porter import PorterStemmer\n",
    "from sklearn.feature_extraction.text import TfidfVectorizer\n",
    "from sklearn.model_selection import train_test_split\n",
    "from sklearn.linear_model import LogisticRegression\n",
    "from sklearn.metrics import accuracy_score"
   ]
  },
  {
   "cell_type": "code",
   "execution_count": 32,
   "metadata": {},
   "outputs": [],
   "source": [
    "news = pd.read_csv(r'Data_Approach1\\Final_Dataset.csv')"
   ]
  },
  {
   "cell_type": "code",
   "execution_count": 33,
   "metadata": {},
   "outputs": [
    {
     "data": {
      "text/html": [
       "<div>\n",
       "<style scoped>\n",
       "    .dataframe tbody tr th:only-of-type {\n",
       "        vertical-align: middle;\n",
       "    }\n",
       "\n",
       "    .dataframe tbody tr th {\n",
       "        vertical-align: top;\n",
       "    }\n",
       "\n",
       "    .dataframe thead th {\n",
       "        text-align: right;\n",
       "    }\n",
       "</style>\n",
       "<table border=\"1\" class=\"dataframe\">\n",
       "  <thead>\n",
       "    <tr style=\"text-align: right;\">\n",
       "      <th></th>\n",
       "      <th>Unnamed: 0</th>\n",
       "      <th>short_description</th>\n",
       "      <th>label</th>\n",
       "    </tr>\n",
       "  </thead>\n",
       "  <tbody>\n",
       "    <tr>\n",
       "      <th>0</th>\n",
       "      <td>318</td>\n",
       "      <td>बयान कह प्रधानमंत्र जह मरीज़ मिल वो ट्रेनिंग हॉ...</td>\n",
       "      <td>0</td>\n",
       "    </tr>\n",
       "    <tr>\n",
       "      <th>1</th>\n",
       "      <td>368</td>\n",
       "      <td>मरियम नवाज़ लोग अपील वो हर हालत मीनार-ए-पाकिस्...</td>\n",
       "      <td>1</td>\n",
       "    </tr>\n",
       "    <tr>\n",
       "      <th>2</th>\n",
       "      <td>109</td>\n",
       "      <td>लड़क लड़क शाद दोन लड़क लड़क प्यार</td>\n",
       "      <td>1</td>\n",
       "    </tr>\n",
       "    <tr>\n",
       "      <th>3</th>\n",
       "      <td>32</td>\n",
       "      <td>सोशल मीडिय दाव के अनुसार बिलकिस बान 19 दिन जेल</td>\n",
       "      <td>0</td>\n",
       "    </tr>\n",
       "    <tr>\n",
       "      <th>4</th>\n",
       "      <td>499</td>\n",
       "      <td>सब-डिविशनल मजिस्ट्रेट बूम बत वीडिय मॉक ड्रिल 1...</td>\n",
       "      <td>0</td>\n",
       "    </tr>\n",
       "    <tr>\n",
       "      <th>...</th>\n",
       "      <td>...</td>\n",
       "      <td>...</td>\n",
       "      <td>...</td>\n",
       "    </tr>\n",
       "    <tr>\n",
       "      <th>1515</th>\n",
       "      <td>162</td>\n",
       "      <td>बूम न्यूज़ रिपोर्ट्स पाई जिसम बत गय घट बांग्लाद...</td>\n",
       "      <td>0</td>\n",
       "    </tr>\n",
       "    <tr>\n",
       "      <th>1516</th>\n",
       "      <td>751</td>\n",
       "      <td>भान अथैय साल 1982 रिलीज़ फ़िल्म गांध कॉस्ट्यूम...</td>\n",
       "      <td>1</td>\n",
       "    </tr>\n",
       "    <tr>\n",
       "      <th>1517</th>\n",
       "      <td>361</td>\n",
       "      <td>बूम पाय वायरल तस्वीर एडिट गय असल तस्वीर 2016 व...</td>\n",
       "      <td>0</td>\n",
       "    </tr>\n",
       "    <tr>\n",
       "      <th>1518</th>\n",
       "      <td>411</td>\n",
       "      <td>बूम पाय तस्वीर असंबंधित घायल महिल तस्वीर गुजरात</td>\n",
       "      <td>0</td>\n",
       "    </tr>\n",
       "    <tr>\n",
       "      <th>1519</th>\n",
       "      <td>219</td>\n",
       "      <td>दोन पक्ष आठ स्तर सैन्य वार् चुक सीम मुद्द सुलझ...</td>\n",
       "      <td>1</td>\n",
       "    </tr>\n",
       "  </tbody>\n",
       "</table>\n",
       "<p>1520 rows × 3 columns</p>\n",
       "</div>"
      ],
      "text/plain": [
       "      Unnamed: 0                                  short_description  label\n",
       "0            318  बयान कह प्रधानमंत्र जह मरीज़ मिल वो ट्रेनिंग हॉ...      0\n",
       "1            368  मरियम नवाज़ लोग अपील वो हर हालत मीनार-ए-पाकिस्...      1\n",
       "2            109                 लड़क लड़क शाद दोन लड़क लड़क प्यार       1\n",
       "3             32    सोशल मीडिय दाव के अनुसार बिलकिस बान 19 दिन जेल       0\n",
       "4            499  सब-डिविशनल मजिस्ट्रेट बूम बत वीडिय मॉक ड्रिल 1...      0\n",
       "...          ...                                                ...    ...\n",
       "1515         162  बूम न्यूज़ रिपोर्ट्स पाई जिसम बत गय घट बांग्लाद...      0\n",
       "1516         751  भान अथैय साल 1982 रिलीज़ फ़िल्म गांध कॉस्ट्यूम...      1\n",
       "1517         361  बूम पाय वायरल तस्वीर एडिट गय असल तस्वीर 2016 व...      0\n",
       "1518         411   बूम पाय तस्वीर असंबंधित घायल महिल तस्वीर गुजरात       0\n",
       "1519         219  दोन पक्ष आठ स्तर सैन्य वार् चुक सीम मुद्द सुलझ...      1\n",
       "\n",
       "[1520 rows x 3 columns]"
      ]
     },
     "execution_count": 33,
     "metadata": {},
     "output_type": "execute_result"
    }
   ],
   "source": [
    "news"
   ]
  },
  {
   "cell_type": "code",
   "execution_count": 34,
   "metadata": {},
   "outputs": [],
   "source": [
    "#separating the data and label\n",
    "X = news['short_description'].values\n",
    "Y = news['label'].values"
   ]
  },
  {
   "cell_type": "code",
   "execution_count": 35,
   "metadata": {},
   "outputs": [
    {
     "name": "stdout",
     "output_type": "stream",
     "text": [
      "['बयान कह प्रधानमंत्र जह मरीज़ मिल वो ट्रेनिंग हॉल ट्रीटमेंट सेंटर बन '\n",
      " 'मरियम नवाज़ लोग अपील वो हर हालत मीनार-ए-पाकिस्तान पहुँच इमरान ख़ान सरकार आख़िर धक्क दें '\n",
      " 'लड़क लड़क शाद दोन लड़क लड़क प्यार ' ...\n",
      " 'बूम पाय वायरल तस्वीर एडिट गय असल तस्वीर 2016 वॉशिंगटन विरोध के ली गय '\n",
      " 'बूम पाय तस्वीर असंबंधित घायल महिल तस्वीर गुजरात '\n",
      " 'दोन पक्ष आठ स्तर सैन्य वार् चुक सीम मुद्द सुलझ प्रगत नह दिख भारत के पास क्य विकल्प ']\n",
      "[0 1 1 ... 0 0 1]\n"
     ]
    }
   ],
   "source": [
    "print(X)\n",
    "print(Y)"
   ]
  },
  {
   "cell_type": "code",
   "execution_count": 36,
   "metadata": {},
   "outputs": [],
   "source": [
    "# converting the textual data to numerical data\n",
    "vectorizer = TfidfVectorizer()\n",
    "vectorizer.fit(X)\n",
    "\n",
    "X = vectorizer.transform(X)"
   ]
  },
  {
   "cell_type": "code",
   "execution_count": 37,
   "metadata": {},
   "outputs": [
    {
     "name": "stdout",
     "output_type": "stream",
     "text": [
      "  (0, 1025)\t0.3315914536154644\n",
      "  (0, 956)\t0.3731398542877424\n",
      "  (0, 895)\t0.3450469772109856\n",
      "  (0, 890)\t0.24920730284432724\n",
      "  (0, 798)\t0.3131401342247349\n",
      "  (0, 656)\t0.2783494447681474\n",
      "  (0, 655)\t0.469718592909773\n",
      "  (0, 639)\t0.3315914536154644\n",
      "  (0, 514)\t0.2520485172679027\n",
      "  (1, 1231)\t0.2535651007094995\n",
      "  (1, 1188)\t0.2198778081217244\n",
      "  (1, 1065)\t0.33389543507355335\n",
      "  (1, 990)\t0.2799152818636371\n",
      "  (1, 956)\t0.3008345927764162\n",
      "  (1, 858)\t0.2835380919404331\n",
      "  (1, 807)\t0.29600295476811056\n",
      "  (1, 765)\t0.4188639311809942\n",
      "  (1, 290)\t0.3435755656823458\n",
      "  (1, 223)\t0.31503848018025854\n",
      "  (1, 160)\t0.21509603766168567\n",
      "  (2, 1063)\t1.0\n",
      "  (3, 1131)\t0.4478866150607156\n",
      "  (3, 1054)\t0.5416431132845634\n",
      "  (3, 156)\t0.46767068528753986\n",
      "  (3, 26)\t0.536007880542388\n",
      "  :\t:\n",
      "  (1516, 545)\t0.2095857880898783\n",
      "  (1516, 447)\t0.35922407220252867\n",
      "  (1516, 280)\t0.3568932772908177\n",
      "  (1516, 153)\t0.5306729901011219\n",
      "  (1516, 33)\t0.5306729901011219\n",
      "  (1517, 995)\t0.20414861921018732\n",
      "  (1517, 720)\t0.40635983394048375\n",
      "  (1517, 545)\t0.391772960747902\n",
      "  (1517, 532)\t0.47624684417899543\n",
      "  (1517, 384)\t0.36581482888180467\n",
      "  (1517, 196)\t0.36581482888180467\n",
      "  (1517, 52)\t0.38112588368039063\n",
      "  (1518, 997)\t0.47115834109999\n",
      "  (1518, 966)\t0.31063052639750954\n",
      "  (1518, 720)\t0.5233790708657321\n",
      "  (1518, 631)\t0.4514381695546106\n",
      "  (1518, 192)\t0.4514381695546106\n",
      "  (1519, 1061)\t0.5016562013014462\n",
      "  (1519, 1018)\t0.17151882845616284\n",
      "  (1519, 1009)\t0.475011621475987\n",
      "  (1519, 825)\t0.3331040952471988\n",
      "  (1519, 817)\t0.19936319233816616\n",
      "  (1519, 709)\t0.26007317786435497\n",
      "  (1519, 505)\t0.33568143026697383\n",
      "  (1519, 228)\t0.4028178315855901\n"
     ]
    }
   ],
   "source": [
    "print(X)"
   ]
  },
  {
   "cell_type": "code",
   "execution_count": 38,
   "metadata": {},
   "outputs": [],
   "source": [
    "X_train, X_test, Y_train, Y_test = train_test_split(X, Y, test_size = 0.2, stratify=Y, random_state=2)"
   ]
  },
  {
   "cell_type": "code",
   "execution_count": 39,
   "metadata": {},
   "outputs": [
    {
     "data": {
      "text/html": [
       "<style>#sk-container-id-3 {color: black;background-color: white;}#sk-container-id-3 pre{padding: 0;}#sk-container-id-3 div.sk-toggleable {background-color: white;}#sk-container-id-3 label.sk-toggleable__label {cursor: pointer;display: block;width: 100%;margin-bottom: 0;padding: 0.3em;box-sizing: border-box;text-align: center;}#sk-container-id-3 label.sk-toggleable__label-arrow:before {content: \"▸\";float: left;margin-right: 0.25em;color: #696969;}#sk-container-id-3 label.sk-toggleable__label-arrow:hover:before {color: black;}#sk-container-id-3 div.sk-estimator:hover label.sk-toggleable__label-arrow:before {color: black;}#sk-container-id-3 div.sk-toggleable__content {max-height: 0;max-width: 0;overflow: hidden;text-align: left;background-color: #f0f8ff;}#sk-container-id-3 div.sk-toggleable__content pre {margin: 0.2em;color: black;border-radius: 0.25em;background-color: #f0f8ff;}#sk-container-id-3 input.sk-toggleable__control:checked~div.sk-toggleable__content {max-height: 200px;max-width: 100%;overflow: auto;}#sk-container-id-3 input.sk-toggleable__control:checked~label.sk-toggleable__label-arrow:before {content: \"▾\";}#sk-container-id-3 div.sk-estimator input.sk-toggleable__control:checked~label.sk-toggleable__label {background-color: #d4ebff;}#sk-container-id-3 div.sk-label input.sk-toggleable__control:checked~label.sk-toggleable__label {background-color: #d4ebff;}#sk-container-id-3 input.sk-hidden--visually {border: 0;clip: rect(1px 1px 1px 1px);clip: rect(1px, 1px, 1px, 1px);height: 1px;margin: -1px;overflow: hidden;padding: 0;position: absolute;width: 1px;}#sk-container-id-3 div.sk-estimator {font-family: monospace;background-color: #f0f8ff;border: 1px dotted black;border-radius: 0.25em;box-sizing: border-box;margin-bottom: 0.5em;}#sk-container-id-3 div.sk-estimator:hover {background-color: #d4ebff;}#sk-container-id-3 div.sk-parallel-item::after {content: \"\";width: 100%;border-bottom: 1px solid gray;flex-grow: 1;}#sk-container-id-3 div.sk-label:hover label.sk-toggleable__label {background-color: #d4ebff;}#sk-container-id-3 div.sk-serial::before {content: \"\";position: absolute;border-left: 1px solid gray;box-sizing: border-box;top: 0;bottom: 0;left: 50%;z-index: 0;}#sk-container-id-3 div.sk-serial {display: flex;flex-direction: column;align-items: center;background-color: white;padding-right: 0.2em;padding-left: 0.2em;position: relative;}#sk-container-id-3 div.sk-item {position: relative;z-index: 1;}#sk-container-id-3 div.sk-parallel {display: flex;align-items: stretch;justify-content: center;background-color: white;position: relative;}#sk-container-id-3 div.sk-item::before, #sk-container-id-3 div.sk-parallel-item::before {content: \"\";position: absolute;border-left: 1px solid gray;box-sizing: border-box;top: 0;bottom: 0;left: 50%;z-index: -1;}#sk-container-id-3 div.sk-parallel-item {display: flex;flex-direction: column;z-index: 1;position: relative;background-color: white;}#sk-container-id-3 div.sk-parallel-item:first-child::after {align-self: flex-end;width: 50%;}#sk-container-id-3 div.sk-parallel-item:last-child::after {align-self: flex-start;width: 50%;}#sk-container-id-3 div.sk-parallel-item:only-child::after {width: 0;}#sk-container-id-3 div.sk-dashed-wrapped {border: 1px dashed gray;margin: 0 0.4em 0.5em 0.4em;box-sizing: border-box;padding-bottom: 0.4em;background-color: white;}#sk-container-id-3 div.sk-label label {font-family: monospace;font-weight: bold;display: inline-block;line-height: 1.2em;}#sk-container-id-3 div.sk-label-container {text-align: center;}#sk-container-id-3 div.sk-container {/* jupyter's `normalize.less` sets `[hidden] { display: none; }` but bootstrap.min.css set `[hidden] { display: none !important; }` so we also need the `!important` here to be able to override the default hidden behavior on the sphinx rendered scikit-learn.org. See: https://github.com/scikit-learn/scikit-learn/issues/21755 */display: inline-block !important;position: relative;}#sk-container-id-3 div.sk-text-repr-fallback {display: none;}</style><div id=\"sk-container-id-3\" class=\"sk-top-container\"><div class=\"sk-text-repr-fallback\"><pre>LogisticRegression()</pre><b>In a Jupyter environment, please rerun this cell to show the HTML representation or trust the notebook. <br />On GitHub, the HTML representation is unable to render, please try loading this page with nbviewer.org.</b></div><div class=\"sk-container\" hidden><div class=\"sk-item\"><div class=\"sk-estimator sk-toggleable\"><input class=\"sk-toggleable__control sk-hidden--visually\" id=\"sk-estimator-id-3\" type=\"checkbox\" checked><label for=\"sk-estimator-id-3\" class=\"sk-toggleable__label sk-toggleable__label-arrow\">LogisticRegression</label><div class=\"sk-toggleable__content\"><pre>LogisticRegression()</pre></div></div></div></div></div>"
      ],
      "text/plain": [
       "LogisticRegression()"
      ]
     },
     "execution_count": 39,
     "metadata": {},
     "output_type": "execute_result"
    }
   ],
   "source": [
    "model = LogisticRegression()\n",
    "model.fit(X_train, Y_train)"
   ]
  },
  {
   "cell_type": "code",
   "execution_count": 40,
   "metadata": {},
   "outputs": [],
   "source": [
    "# accuracy score on the training data\n",
    "X_train_prediction = model.predict(X_train)\n",
    "training_data_accuracy = accuracy_score(X_train_prediction, Y_train)"
   ]
  },
  {
   "cell_type": "code",
   "execution_count": 41,
   "metadata": {},
   "outputs": [
    {
     "name": "stdout",
     "output_type": "stream",
     "text": [
      "Accuracy score of the training data :  0.9399671052631579\n"
     ]
    }
   ],
   "source": [
    "print('Accuracy score of the training data : ', training_data_accuracy)"
   ]
  },
  {
   "cell_type": "code",
   "execution_count": 42,
   "metadata": {},
   "outputs": [],
   "source": [
    "# accuracy score on the test data\n",
    "X_test_prediction = model.predict(X_test)\n",
    "test_data_accuracy = accuracy_score(X_test_prediction, Y_test)"
   ]
  },
  {
   "cell_type": "code",
   "execution_count": 43,
   "metadata": {},
   "outputs": [
    {
     "name": "stdout",
     "output_type": "stream",
     "text": [
      "Accuracy score of the test data :  0.8618421052631579\n"
     ]
    }
   ],
   "source": [
    "print('Accuracy score of the test data : ', test_data_accuracy)"
   ]
  },
  {
   "cell_type": "code",
   "execution_count": 44,
   "metadata": {},
   "outputs": [
    {
     "name": "stdout",
     "output_type": "stream",
     "text": [
      "Training data :  93.99671052631578\n",
      "Test data :  86.18421052631578\n"
     ]
    }
   ],
   "source": [
    "print('Training data : ', training_data_accuracy*100)\n",
    "print('Test data : ', test_data_accuracy*100)"
   ]
  }
 ],
 "metadata": {
  "kernelspec": {
   "display_name": "Python 3.10.7 64-bit",
   "language": "python",
   "name": "python3"
  },
  "language_info": {
   "codemirror_mode": {
    "name": "ipython",
    "version": 3
   },
   "file_extension": ".py",
   "mimetype": "text/x-python",
   "name": "python",
   "nbconvert_exporter": "python",
   "pygments_lexer": "ipython3",
   "version": "3.10.7"
  },
  "orig_nbformat": 4,
  "vscode": {
   "interpreter": {
    "hash": "3ee691e3c2883c6a130fe7a4fe904a1eaf00aeea2af805a016ed0d0bd8e74479"
   }
  }
 },
 "nbformat": 4,
 "nbformat_minor": 2
}
